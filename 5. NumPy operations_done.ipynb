{
 "cells": [
  {
   "cell_type": "markdown",
   "metadata": {},
   "source": [
    "Import NumPy as np"
   ]
  },
  {
   "cell_type": "code",
   "execution_count": 2,
   "metadata": {},
   "outputs": [],
   "source": [
    "    import numpy as np"
   ]
  },
  {
   "cell_type": "code",
   "execution_count": 6,
   "metadata": {},
   "outputs": [],
   "source": []
  },
  {
   "cell_type": "markdown",
   "metadata": {},
   "source": [
    "Create NumPy arrays"
   ]
  },
  {
   "cell_type": "code",
   "execution_count": 8,
   "metadata": {},
   "outputs": [
    {
     "name": "stdout",
     "output_type": "stream",
     "text": [
      "[2.11039935 1.82650039 1.75411273 1.92246893 1.63715291 1.79521723\n",
      " 1.79590661 1.60669344 1.90229398 1.99876934 2.11586874 2.17826079\n",
      " 2.15974369 2.13746371 1.94807025 1.98848682 1.65891117 1.9410211\n",
      " 1.95203295 1.74364235 1.65765535 2.01337021 1.91865118 1.79540755\n",
      " 1.81205555 1.78265081 1.91657462 1.78122618 1.75514781 2.05563728\n",
      " 2.12106688 1.9053804  1.77510387 2.07991275 2.15794277 2.17060997\n",
      " 2.18264549 2.16881275 2.09875615 1.65182618 1.65149631 2.09329829\n",
      " 1.87526925 2.16512269 1.76082951 2.06386636 2.16464091 1.69475269\n",
      " 2.13868014 1.69169656]\n",
      "[1.53186766 1.44390725 1.86903384 1.94436483 1.79728087 1.88219121\n",
      " 1.69298053 1.94976257 1.82986    1.95622775 1.44430291 1.43243016\n",
      " 1.54275504 1.99350561 1.97941379 1.828664   1.55537444 1.98390677\n",
      " 1.69649598 1.63645748 1.91599044 1.46884703 1.80302394 1.76192579\n",
      " 1.57453161 1.67284228 1.49538956 1.66382102 1.72968061 1.64563234\n",
      " 1.62966501 1.83377369 1.96689155 1.55041747 1.9161134  1.85228088\n",
      " 1.62137048 1.91629284 1.40915168 1.44457823 1.56688514 1.92151214\n",
      " 1.50391152 1.80402639 1.99598392 1.73250266 1.69281296 1.85196073\n",
      " 1.61798585 1.42611505]\n"
     ]
    }
   ],
   "source": [
    "man = np.random.uniform(low=1.60, high=2.20, size=(50,))\n",
    "print(man)\n",
    "\n",
    "women = np.random.uniform(low=1.40, high=2, size=(50,))\n",
    "print(women)"
   ]
  },
  {
   "cell_type": "markdown",
   "metadata": {},
   "source": [
    "Print difference of height between man and woman "
   ]
  },
  {
   "cell_type": "code",
   "execution_count": 7,
   "metadata": {},
   "outputs": [
    {
     "name": "stdout",
     "output_type": "stream",
     "text": [
      "[ 0.19554074  0.03534195  0.16038325  0.10721023  0.65403986  0.25630772\n",
      "  0.48716238  0.33978217  0.15251694  0.22433333  0.03590376  0.36439306\n",
      "  0.41921924 -0.18138389  0.56687607  0.07668952  0.18711542  0.47060832\n",
      "  0.13031294  0.21177621  0.06761974 -0.05458913  0.24105456  0.23432915\n",
      "  0.11096162 -0.01176378  0.68558259  0.55608386 -0.05416631 -0.40996415\n",
      " -0.12893661  0.39966324  0.54573408  0.12087025 -0.04922408  0.13918559\n",
      " -0.08337679  0.11702095  0.68100902  0.17240698  0.67747559  0.36238945\n",
      " -0.25561767 -0.14149496  0.42343391  0.24095829  0.52056041 -0.03261566\n",
      "  0.11170573 -0.0272676 ]\n"
     ]
    }
   ],
   "source": [
    "diffs = man - women\n",
    "print(diffs)"
   ]
  },
  {
   "cell_type": "markdown",
   "metadata": {},
   "source": [
    "----\n",
    "Calculate area of the circles"
   ]
  },
  {
   "cell_type": "code",
   "execution_count": 12,
   "metadata": {},
   "outputs": [
    {
     "name": "stdout",
     "output_type": "stream",
     "text": [
      "[22 43 32 47  6 17 15 17 43 16 34 33 14  6  9 17 18 19 35 47 44 17 19 25\n",
      " 45 14 14  9 38 25 27 13 11 11  2 31  9 18 40  1 34 34 18 31 28  0 13 39\n",
      " 34 19]\n"
     ]
    }
   ],
   "source": [
    "r = np.random.randint(50, size=50)\n",
    "print(r)"
   ]
  },
  {
   "cell_type": "code",
   "execution_count": 15,
   "metadata": {
    "scrolled": true
   },
   "outputs": [
    {
     "name": "stdout",
     "output_type": "stream",
     "text": [
      "[1.52053084e+03 5.80880482e+03 3.21699088e+03 6.93977817e+03\n",
      " 1.13097336e+02 9.07920277e+02 7.06858347e+02 9.07920277e+02\n",
      " 5.80880482e+03 8.04247719e+02 3.63168111e+03 3.42119440e+03\n",
      " 6.15752160e+02 1.13097336e+02 2.54469005e+02 9.07920277e+02\n",
      " 1.01787602e+03 1.13411495e+03 3.84845100e+03 6.93977817e+03\n",
      " 6.08212338e+03 9.07920277e+02 1.13411495e+03 1.96349541e+03\n",
      " 6.36172512e+03 6.15752160e+02 6.15752160e+02 2.54469005e+02\n",
      " 4.53645979e+03 1.96349541e+03 2.29022104e+03 5.30929158e+02\n",
      " 3.80132711e+02 3.80132711e+02 1.25663706e+01 3.01907054e+03\n",
      " 2.54469005e+02 1.01787602e+03 5.02654825e+03 3.14159265e+00\n",
      " 3.63168111e+03 3.63168111e+03 1.01787602e+03 3.01907054e+03\n",
      " 2.46300864e+03 0.00000000e+00 5.30929158e+02 4.77836243e+03\n",
      " 3.63168111e+03 1.13411495e+03]\n"
     ]
    }
   ],
   "source": [
    "from math import pi\n",
    "area = pi * r**2\n",
    "print(area)\n"
   ]
  },
  {
   "cell_type": "markdown",
   "metadata": {},
   "source": [
    "Print circles with bigger area than average"
   ]
  },
  {
   "cell_type": "code",
   "execution_count": 38,
   "metadata": {},
   "outputs": [
    {
     "data": {
      "text/plain": [
       "array([5808.80481649, 3216.99087728, 6939.77817178, 5808.80481649,\n",
       "       3631.68110755, 3421.19439976, 3848.45100065, 6939.77817178,\n",
       "       6082.12337735, 6361.72512352, 4536.45979178, 2290.22104447,\n",
       "       3019.0705401 , 5026.54824574, 3631.68110755, 3631.68110755,\n",
       "       3019.0705401 , 2463.00864041, 4778.36242611, 3631.68110755])"
      ]
     },
     "execution_count": 38,
     "metadata": {},
     "output_type": "execute_result"
    }
   ],
   "source": [
    "mean = np.average(area)\n",
    "area [area > mean]"
   ]
  },
  {
   "cell_type": "markdown",
   "metadata": {},
   "source": [
    "----\n",
    "Calculate which array is bigger"
   ]
  },
  {
   "cell_type": "code",
   "execution_count": 27,
   "metadata": {},
   "outputs": [
    {
     "data": {
      "text/plain": [
       "True"
      ]
     },
     "execution_count": 27,
     "metadata": {},
     "output_type": "execute_result"
    }
   ],
   "source": [
    "area.sum() > (area [area > mean]).sum() "
   ]
  },
  {
   "cell_type": "markdown",
   "metadata": {},
   "source": [
    "----\n",
    "N - dimensional calculations"
   ]
  },
  {
   "cell_type": "code",
   "execution_count": 24,
   "metadata": {},
   "outputs": [],
   "source": []
  },
  {
   "cell_type": "markdown",
   "metadata": {},
   "source": [
    "Calculate and print sum of all rows"
   ]
  },
  {
   "cell_type": "code",
   "execution_count": 28,
   "metadata": {},
   "outputs": [
    {
     "data": {
      "text/plain": [
       "109808.08802092401"
      ]
     },
     "execution_count": 28,
     "metadata": {},
     "output_type": "execute_result"
    }
   ],
   "source": [
    "area.sum()"
   ]
  },
  {
   "cell_type": "markdown",
   "metadata": {},
   "source": [
    "Calculate and print multiplication of all columns"
   ]
  },
  {
   "cell_type": "code",
   "execution_count": 30,
   "metadata": {
    "collapsed": true
   },
   "outputs": [
    {
     "ename": "ValueError",
     "evalue": "invalid number of arguments",
     "output_type": "error",
     "traceback": [
      "\u001b[1;31m---------------------------------------------------------------------------\u001b[0m",
      "\u001b[1;31mValueError\u001b[0m                                Traceback (most recent call last)",
      "\u001b[1;32m<ipython-input-30-c45cac37823f>\u001b[0m in \u001b[0;36m<module>\u001b[1;34m\u001b[0m\n\u001b[1;32m----> 1\u001b[1;33m \u001b[0mnp\u001b[0m\u001b[1;33m.\u001b[0m\u001b[0mmultiply\u001b[0m\u001b[1;33m(\u001b[0m\u001b[0marea\u001b[0m\u001b[1;33m)\u001b[0m\u001b[1;33m\u001b[0m\u001b[1;33m\u001b[0m\u001b[0m\n\u001b[0m",
      "\u001b[1;31mValueError\u001b[0m: invalid number of arguments"
     ]
    }
   ],
   "source": [
    "#nie rozmumiem "
   ]
  },
  {
   "cell_type": "code",
   "execution_count": 9,
   "metadata": {},
   "outputs": [],
   "source": []
  },
  {
   "cell_type": "markdown",
   "metadata": {},
   "source": [
    "Calculate area of circles and print all elements which are bigger than median of all elements"
   ]
  },
  {
   "cell_type": "code",
   "execution_count": 35,
   "metadata": {},
   "outputs": [
    {
     "data": {
      "text/plain": [
       "1134.1149479459152"
      ]
     },
     "execution_count": 35,
     "metadata": {},
     "output_type": "execute_result"
    }
   ],
   "source": [
    "np.median(area)"
   ]
  },
  {
   "cell_type": "code",
   "execution_count": 36,
   "metadata": {},
   "outputs": [
    {
     "data": {
      "text/plain": [
       "array([1520.53084434, 5808.80481649, 3216.99087728, 6939.77817178,\n",
       "       5808.80481649, 3631.68110755, 3421.19439976, 3848.45100065,\n",
       "       6939.77817178, 6082.12337735, 1963.49540849, 6361.72512352,\n",
       "       4536.45979178, 1963.49540849, 2290.22104447, 3019.0705401 ,\n",
       "       5026.54824574, 3631.68110755, 3631.68110755, 3019.0705401 ,\n",
       "       2463.00864041, 4778.36242611, 3631.68110755])"
      ]
     },
     "execution_count": 36,
     "metadata": {},
     "output_type": "execute_result"
    }
   ],
   "source": [
    "area [area > np.median(area)] "
   ]
  },
  {
   "cell_type": "code",
   "execution_count": null,
   "metadata": {},
   "outputs": [],
   "source": []
  }
 ],
 "metadata": {
  "kernelspec": {
   "display_name": "Python 3",
   "language": "python",
   "name": "python3"
  },
  "language_info": {
   "codemirror_mode": {
    "name": "ipython",
    "version": 3
   },
   "file_extension": ".py",
   "mimetype": "text/x-python",
   "name": "python",
   "nbconvert_exporter": "python",
   "pygments_lexer": "ipython3",
   "version": "3.6.7"
  }
 },
 "nbformat": 4,
 "nbformat_minor": 2
}
