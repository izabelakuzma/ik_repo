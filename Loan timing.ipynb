{
 "cells": [
  {
   "cell_type": "markdown",
   "metadata": {},
   "source": [
    "Instructions\n",
    "\n",
    "In this problem, you will forecast the outcome of a portfolio of loans.\n",
    "Each loan is scheduled to be repaid over 3 years and is structured as follows:\n",
    "First, the borrower receives the funds. This event is called origination.\n",
    "The borrower then makes regular repayments, until one of the following happens:\n",
    "a) The borrower stops making payments, typically due to financial hardship,\n",
    "   before the end of the 3-year term. This event is called charge-off, and the loan is then said to have charged off.\n",
    "\n",
    "b) The borrower continues making repayments until 3 years after the origination date.\n",
    "   At this point, the debt has been fully repaid.\n",
    "\n",
    "In the attached CSV, each row corresponds to a loan, and the columns are defined as follows:\n",
    "The column with header days since origination indicates the number of days that elapsed between\n",
    "origination and the date when the data was collected.\n",
    "For loans that charged off before the data was collected, the column with header days from origination\n",
    "to charge-off indicates the number of days that elapsed between origination and charge-off.\n",
    "For all other loans, this column is blank.\n",
    "\n",
    "Objective:\n",
    "We would like you to estimate what fraction of these loans will have charged off by the time all\n",
    "of their 3-year terms are finished. Please include a rigorous explanation of how you arrived at your answer,\n",
    "and include any code you used. You may make simplifying assumptions, but please state such assumptions explicitly.\n",
    "Feel free to present your answer in and Jupyter Notebook. Please push Your work to Yours GitHub repository.\n",
    "Also, we expect that this project will not take more than 3–6 hours of your time.\n",
    "\n",
    "Comments and Remarks:\n",
    "The dataset here is complex (has 50,000 rows and 2 columns; and lots of missing values), and the problem is not very straightforward.\n",
    "You have to examine the dataset critically and then decide what model to use."
   ]
  },
  {
   "cell_type": "code",
   "execution_count": 238,
   "metadata": {},
   "outputs": [],
   "source": [
    "# Import python libraries and data , show basic information about data  \n",
    "\n",
    "import pandas as pd\n",
    "import numpy as np\n",
    "import matplotlib.pyplot as plt\n",
    "from sklearn import datasets, linear_model"
   ]
  },
  {
   "cell_type": "code",
   "execution_count": 239,
   "metadata": {},
   "outputs": [],
   "source": [
    "\n",
    "loan_timing = pd.read_csv(\"Test2/Test2_loan_timing.csv\")"
   ]
  },
  {
   "cell_type": "code",
   "execution_count": 240,
   "metadata": {
    "scrolled": true
   },
   "outputs": [
    {
     "data": {
      "text/html": [
       "<div>\n",
       "<style scoped>\n",
       "    .dataframe tbody tr th:only-of-type {\n",
       "        vertical-align: middle;\n",
       "    }\n",
       "\n",
       "    .dataframe tbody tr th {\n",
       "        vertical-align: top;\n",
       "    }\n",
       "\n",
       "    .dataframe thead th {\n",
       "        text-align: right;\n",
       "    }\n",
       "</style>\n",
       "<table border=\"1\" class=\"dataframe\">\n",
       "  <thead>\n",
       "    <tr style=\"text-align: right;\">\n",
       "      <th></th>\n",
       "      <th>days since origination</th>\n",
       "      <th>days from origination to chargeoff</th>\n",
       "    </tr>\n",
       "  </thead>\n",
       "  <tbody>\n",
       "    <tr>\n",
       "      <th>0</th>\n",
       "      <td>109</td>\n",
       "      <td>NaN</td>\n",
       "    </tr>\n",
       "    <tr>\n",
       "      <th>1</th>\n",
       "      <td>679</td>\n",
       "      <td>NaN</td>\n",
       "    </tr>\n",
       "    <tr>\n",
       "      <th>2</th>\n",
       "      <td>723</td>\n",
       "      <td>NaN</td>\n",
       "    </tr>\n",
       "    <tr>\n",
       "      <th>3</th>\n",
       "      <td>509</td>\n",
       "      <td>NaN</td>\n",
       "    </tr>\n",
       "    <tr>\n",
       "      <th>4</th>\n",
       "      <td>254</td>\n",
       "      <td>NaN</td>\n",
       "    </tr>\n",
       "  </tbody>\n",
       "</table>\n",
       "</div>"
      ],
      "text/plain": [
       "   days since origination  days from origination to chargeoff\n",
       "0                     109                                 NaN\n",
       "1                     679                                 NaN\n",
       "2                     723                                 NaN\n",
       "3                     509                                 NaN\n",
       "4                     254                                 NaN"
      ]
     },
     "execution_count": 240,
     "metadata": {},
     "output_type": "execute_result"
    }
   ],
   "source": [
    "loan_timing.head()"
   ]
  },
  {
   "cell_type": "code",
   "execution_count": 241,
   "metadata": {
    "scrolled": false
   },
   "outputs": [
    {
     "data": {
      "text/html": [
       "<div>\n",
       "<style scoped>\n",
       "    .dataframe tbody tr th:only-of-type {\n",
       "        vertical-align: middle;\n",
       "    }\n",
       "\n",
       "    .dataframe tbody tr th {\n",
       "        vertical-align: top;\n",
       "    }\n",
       "\n",
       "    .dataframe thead th {\n",
       "        text-align: right;\n",
       "    }\n",
       "</style>\n",
       "<table border=\"1\" class=\"dataframe\">\n",
       "  <thead>\n",
       "    <tr style=\"text-align: right;\">\n",
       "      <th></th>\n",
       "      <th>days since origination</th>\n",
       "      <th>days from origination to chargeoff</th>\n",
       "    </tr>\n",
       "  </thead>\n",
       "  <tbody>\n",
       "    <tr>\n",
       "      <th>count</th>\n",
       "      <td>50000.000000</td>\n",
       "      <td>3305.000000</td>\n",
       "    </tr>\n",
       "    <tr>\n",
       "      <th>mean</th>\n",
       "      <td>365.844760</td>\n",
       "      <td>214.852345</td>\n",
       "    </tr>\n",
       "    <tr>\n",
       "      <th>std</th>\n",
       "      <td>210.965114</td>\n",
       "      <td>165.233874</td>\n",
       "    </tr>\n",
       "    <tr>\n",
       "      <th>min</th>\n",
       "      <td>0.000000</td>\n",
       "      <td>0.000000</td>\n",
       "    </tr>\n",
       "    <tr>\n",
       "      <th>25%</th>\n",
       "      <td>183.000000</td>\n",
       "      <td>76.000000</td>\n",
       "    </tr>\n",
       "    <tr>\n",
       "      <th>50%</th>\n",
       "      <td>366.000000</td>\n",
       "      <td>180.000000</td>\n",
       "    </tr>\n",
       "    <tr>\n",
       "      <th>75%</th>\n",
       "      <td>549.000000</td>\n",
       "      <td>323.000000</td>\n",
       "    </tr>\n",
       "    <tr>\n",
       "      <th>max</th>\n",
       "      <td>730.000000</td>\n",
       "      <td>725.000000</td>\n",
       "    </tr>\n",
       "  </tbody>\n",
       "</table>\n",
       "</div>"
      ],
      "text/plain": [
       "       days since origination  days from origination to chargeoff\n",
       "count            50000.000000                         3305.000000\n",
       "mean               365.844760                          214.852345\n",
       "std                210.965114                          165.233874\n",
       "min                  0.000000                            0.000000\n",
       "25%                183.000000                           76.000000\n",
       "50%                366.000000                          180.000000\n",
       "75%                549.000000                          323.000000\n",
       "max                730.000000                          725.000000"
      ]
     },
     "execution_count": 241,
     "metadata": {},
     "output_type": "execute_result"
    }
   ],
   "source": [
    "loan_timing.describe()"
   ]
  },
  {
   "cell_type": "code",
   "execution_count": 242,
   "metadata": {},
   "outputs": [
    {
     "name": "stdout",
     "output_type": "stream",
     "text": [
      "<class 'pandas.core.frame.DataFrame'>\n",
      "RangeIndex: 50000 entries, 0 to 49999\n",
      "Data columns (total 2 columns):\n",
      " #   Column                              Non-Null Count  Dtype  \n",
      "---  ------                              --------------  -----  \n",
      " 0   days since origination              50000 non-null  int64  \n",
      " 1   days from origination to chargeoff  3305 non-null   float64\n",
      "dtypes: float64(1), int64(1)\n",
      "memory usage: 781.4 KB\n"
     ]
    }
   ],
   "source": [
    "loan_timing.info()"
   ]
  },
  {
   "cell_type": "code",
   "execution_count": 243,
   "metadata": {},
   "outputs": [
    {
     "data": {
      "image/png": "[encoded data removed]",
      "text/plain": [
       "<Figure size 432x288 with 1 Axes>"
      ]
     },
     "metadata": {
      "needs_background": "light"
     },
     "output_type": "display_data"
    }
   ],
   "source": [
    "# First, I created some plots to better understand the data.  \n",
    "\n",
    "x = loan_timing['days since origination']\n",
    "y = loan_timing['days from origination to chargeoff']\n",
    "plt.scatter(x, y) \n",
    "plt.title(\"days since origination vs. days from origination to chargeoff\")\n",
    "plt.xlabel(\"days since origination\")\n",
    "plt.ylabel(\"days from origination to chargeoff\")\n",
    "plt.show()\n",
    "\n",
    "# The plot below indicates the relationship between the days since origination and the days to charged-off.  "
   ]
  },
  {
   "cell_type": "code",
   "execution_count": 244,
   "metadata": {},
   "outputs": [],
   "source": [
    "# I divided the imported data into two susbsets.  \n",
    "# loan_timing =>  data for charged-off \n",
    "# loan_active => data for active loans \n",
    "\n",
    "# This is an atypical dataset with a small number of columns to investigate and many NaN values but I decided to use\n",
    "# the classification algorithm anyway.\n",
    "# I think it is definitely a classification problem i.e. for Logistic Regression algorithm. \n",
    "# I added a new variable chargeoff => binary, which indicates 1=> chargeoff , 0 => active loan\n",
    "# I changed the name for variable 'days from origination to chargeoff' to 'days' and replace NaN values with the value \n",
    "# from column 'days since origination' \n",
    "\n",
    "loan_timing['chargeoff'] = np.where(pd.notnull(loan_timing[['days from origination to chargeoff']]), 1, 0)\n",
    "\n",
    "loan_timing['days from origination to chargeoff'] = np.where(pd.notnull(loan_timing[['days from origination to chargeoff']]), loan_timing[['days from origination to chargeoff']], loan_timing[['days since origination']])\n",
    "loan_timing.rename(columns={\"days from origination to chargeoff\": \"days\"}, inplace=True)"
   ]
  },
  {
   "cell_type": "code",
   "execution_count": 245,
   "metadata": {},
   "outputs": [],
   "source": [
    "loan_chargeoff = loan_timing[loan_timing['chargeoff'] == 1] "
   ]
  },
  {
   "cell_type": "code",
   "execution_count": 246,
   "metadata": {
    "scrolled": true
   },
   "outputs": [
    {
     "data": {
      "image/png": "[encoded data removed]",
      "text/plain": [
       "<Figure size 432x288 with 1 Axes>"
      ]
     },
     "metadata": {
      "needs_background": "light"
     },
     "output_type": "display_data"
    }
   ],
   "source": [
    "x = loan_chargeoff['days']\n",
    "\n",
    "plt.hist(x, density=False, bins=20, ec='white', color='blue') \n",
    "plt.ylabel('Count')\n",
    "plt.xlabel('Chargeoff');\n",
    "\n",
    "# The plot below illustrates that the loans that charged-off decrease with increasing time.\n",
    "# This allows me to conclude that the longer the loan active, the lower the risk to charged-off. "
   ]
  },
  {
   "cell_type": "code",
   "execution_count": 247,
   "metadata": {},
   "outputs": [
    {
     "data": {
      "text/html": [
       "<div>\n",
       "<style scoped>\n",
       "    .dataframe tbody tr th:only-of-type {\n",
       "        vertical-align: middle;\n",
       "    }\n",
       "\n",
       "    .dataframe tbody tr th {\n",
       "        vertical-align: top;\n",
       "    }\n",
       "\n",
       "    .dataframe thead th {\n",
       "        text-align: right;\n",
       "    }\n",
       "</style>\n",
       "<table border=\"1\" class=\"dataframe\">\n",
       "  <thead>\n",
       "    <tr style=\"text-align: right;\">\n",
       "      <th></th>\n",
       "      <th>days since origination</th>\n",
       "      <th>days</th>\n",
       "      <th>chargeoff</th>\n",
       "    </tr>\n",
       "  </thead>\n",
       "  <tbody>\n",
       "    <tr>\n",
       "      <th>0</th>\n",
       "      <td>109</td>\n",
       "      <td>109.0</td>\n",
       "      <td>0</td>\n",
       "    </tr>\n",
       "    <tr>\n",
       "      <th>1</th>\n",
       "      <td>679</td>\n",
       "      <td>679.0</td>\n",
       "      <td>0</td>\n",
       "    </tr>\n",
       "    <tr>\n",
       "      <th>2</th>\n",
       "      <td>723</td>\n",
       "      <td>723.0</td>\n",
       "      <td>0</td>\n",
       "    </tr>\n",
       "    <tr>\n",
       "      <th>3</th>\n",
       "      <td>509</td>\n",
       "      <td>509.0</td>\n",
       "      <td>0</td>\n",
       "    </tr>\n",
       "    <tr>\n",
       "      <th>4</th>\n",
       "      <td>254</td>\n",
       "      <td>254.0</td>\n",
       "      <td>0</td>\n",
       "    </tr>\n",
       "    <tr>\n",
       "      <th>...</th>\n",
       "      <td>...</td>\n",
       "      <td>...</td>\n",
       "      <td>...</td>\n",
       "    </tr>\n",
       "    <tr>\n",
       "      <th>49995</th>\n",
       "      <td>253</td>\n",
       "      <td>253.0</td>\n",
       "      <td>0</td>\n",
       "    </tr>\n",
       "    <tr>\n",
       "      <th>49996</th>\n",
       "      <td>664</td>\n",
       "      <td>664.0</td>\n",
       "      <td>0</td>\n",
       "    </tr>\n",
       "    <tr>\n",
       "      <th>49997</th>\n",
       "      <td>209</td>\n",
       "      <td>209.0</td>\n",
       "      <td>0</td>\n",
       "    </tr>\n",
       "    <tr>\n",
       "      <th>49998</th>\n",
       "      <td>214</td>\n",
       "      <td>214.0</td>\n",
       "      <td>0</td>\n",
       "    </tr>\n",
       "    <tr>\n",
       "      <th>49999</th>\n",
       "      <td>1</td>\n",
       "      <td>1.0</td>\n",
       "      <td>0</td>\n",
       "    </tr>\n",
       "  </tbody>\n",
       "</table>\n",
       "<p>46695 rows × 3 columns</p>\n",
       "</div>"
      ],
      "text/plain": [
       "       days since origination   days  chargeoff\n",
       "0                         109  109.0          0\n",
       "1                         679  679.0          0\n",
       "2                         723  723.0          0\n",
       "3                         509  509.0          0\n",
       "4                         254  254.0          0\n",
       "...                       ...    ...        ...\n",
       "49995                     253  253.0          0\n",
       "49996                     664  664.0          0\n",
       "49997                     209  209.0          0\n",
       "49998                     214  214.0          0\n",
       "49999                       1    1.0          0\n",
       "\n",
       "[46695 rows x 3 columns]"
      ]
     },
     "execution_count": 247,
     "metadata": {},
     "output_type": "execute_result"
    }
   ],
   "source": [
    "loan_active = loan_timing[loan_timing['chargeoff'] == 0] \n",
    "loan_active"
   ]
  },
  {
   "cell_type": "code",
   "execution_count": 248,
   "metadata": {},
   "outputs": [
    {
     "data": {
      "image/png": "[encoded data removed]",
      "text/plain": [
       "<Figure size 432x288 with 1 Axes>"
      ]
     },
     "metadata": {
      "needs_background": "light"
     },
     "output_type": "display_data"
    }
   ],
   "source": [
    "x = loan_active['days']\n",
    "\n",
    "plt.hist(x, density=False, bins=20, ec='white', color='blue') \n",
    "plt.ylabel('Count')\n",
    "plt.xlabel('Days since origination');\n",
    "\n",
    "#The plot below ilustrates the uniformly distributed the all loans."
   ]
  },
  {
   "cell_type": "code",
   "execution_count": 249,
   "metadata": {},
   "outputs": [
    {
     "data": {
      "text/html": [
       "<div>\n",
       "<style scoped>\n",
       "    .dataframe tbody tr th:only-of-type {\n",
       "        vertical-align: middle;\n",
       "    }\n",
       "\n",
       "    .dataframe tbody tr th {\n",
       "        vertical-align: top;\n",
       "    }\n",
       "\n",
       "    .dataframe thead th {\n",
       "        text-align: right;\n",
       "    }\n",
       "</style>\n",
       "<table border=\"1\" class=\"dataframe\">\n",
       "  <thead>\n",
       "    <tr style=\"text-align: right;\">\n",
       "      <th></th>\n",
       "      <th>days since origination</th>\n",
       "      <th>days</th>\n",
       "      <th>chargeoff</th>\n",
       "    </tr>\n",
       "  </thead>\n",
       "  <tbody>\n",
       "    <tr>\n",
       "      <th>14</th>\n",
       "      <td>327</td>\n",
       "      <td>78.0</td>\n",
       "      <td>1</td>\n",
       "    </tr>\n",
       "    <tr>\n",
       "      <th>15</th>\n",
       "      <td>400</td>\n",
       "      <td>390.0</td>\n",
       "      <td>1</td>\n",
       "    </tr>\n",
       "    <tr>\n",
       "      <th>16</th>\n",
       "      <td>721</td>\n",
       "      <td>362.0</td>\n",
       "      <td>1</td>\n",
       "    </tr>\n",
       "    <tr>\n",
       "      <th>26</th>\n",
       "      <td>410</td>\n",
       "      <td>48.0</td>\n",
       "      <td>1</td>\n",
       "    </tr>\n",
       "    <tr>\n",
       "      <th>61</th>\n",
       "      <td>649</td>\n",
       "      <td>412.0</td>\n",
       "      <td>1</td>\n",
       "    </tr>\n",
       "    <tr>\n",
       "      <th>...</th>\n",
       "      <td>...</td>\n",
       "      <td>...</td>\n",
       "      <td>...</td>\n",
       "    </tr>\n",
       "    <tr>\n",
       "      <th>49937</th>\n",
       "      <td>661</td>\n",
       "      <td>167.0</td>\n",
       "      <td>1</td>\n",
       "    </tr>\n",
       "    <tr>\n",
       "      <th>49947</th>\n",
       "      <td>520</td>\n",
       "      <td>89.0</td>\n",
       "      <td>1</td>\n",
       "    </tr>\n",
       "    <tr>\n",
       "      <th>49980</th>\n",
       "      <td>356</td>\n",
       "      <td>107.0</td>\n",
       "      <td>1</td>\n",
       "    </tr>\n",
       "    <tr>\n",
       "      <th>49981</th>\n",
       "      <td>280</td>\n",
       "      <td>192.0</td>\n",
       "      <td>1</td>\n",
       "    </tr>\n",
       "    <tr>\n",
       "      <th>49984</th>\n",
       "      <td>487</td>\n",
       "      <td>55.0</td>\n",
       "      <td>1</td>\n",
       "    </tr>\n",
       "  </tbody>\n",
       "</table>\n",
       "<p>3305 rows × 3 columns</p>\n",
       "</div>"
      ],
      "text/plain": [
       "       days since origination   days  chargeoff\n",
       "14                        327   78.0          1\n",
       "15                        400  390.0          1\n",
       "16                        721  362.0          1\n",
       "26                        410   48.0          1\n",
       "61                        649  412.0          1\n",
       "...                       ...    ...        ...\n",
       "49937                     661  167.0          1\n",
       "49947                     520   89.0          1\n",
       "49980                     356  107.0          1\n",
       "49981                     280  192.0          1\n",
       "49984                     487   55.0          1\n",
       "\n",
       "[3305 rows x 3 columns]"
      ]
     },
     "execution_count": 249,
     "metadata": {},
     "output_type": "execute_result"
    }
   ],
   "source": [
    "loan_chargeoff"
   ]
  },
  {
   "cell_type": "code",
   "execution_count": 250,
   "metadata": {},
   "outputs": [
    {
     "data": {
      "text/html": [
       "<div>\n",
       "<style scoped>\n",
       "    .dataframe tbody tr th:only-of-type {\n",
       "        vertical-align: middle;\n",
       "    }\n",
       "\n",
       "    .dataframe tbody tr th {\n",
       "        vertical-align: top;\n",
       "    }\n",
       "\n",
       "    .dataframe thead th {\n",
       "        text-align: right;\n",
       "    }\n",
       "</style>\n",
       "<table border=\"1\" class=\"dataframe\">\n",
       "  <thead>\n",
       "    <tr style=\"text-align: right;\">\n",
       "      <th></th>\n",
       "      <th>days since origination</th>\n",
       "      <th>days</th>\n",
       "      <th>chargeoff</th>\n",
       "    </tr>\n",
       "  </thead>\n",
       "  <tbody>\n",
       "    <tr>\n",
       "      <th>0</th>\n",
       "      <td>109</td>\n",
       "      <td>109.0</td>\n",
       "      <td>0</td>\n",
       "    </tr>\n",
       "    <tr>\n",
       "      <th>1</th>\n",
       "      <td>679</td>\n",
       "      <td>679.0</td>\n",
       "      <td>0</td>\n",
       "    </tr>\n",
       "    <tr>\n",
       "      <th>2</th>\n",
       "      <td>723</td>\n",
       "      <td>723.0</td>\n",
       "      <td>0</td>\n",
       "    </tr>\n",
       "    <tr>\n",
       "      <th>3</th>\n",
       "      <td>509</td>\n",
       "      <td>509.0</td>\n",
       "      <td>0</td>\n",
       "    </tr>\n",
       "    <tr>\n",
       "      <th>4</th>\n",
       "      <td>254</td>\n",
       "      <td>254.0</td>\n",
       "      <td>0</td>\n",
       "    </tr>\n",
       "    <tr>\n",
       "      <th>...</th>\n",
       "      <td>...</td>\n",
       "      <td>...</td>\n",
       "      <td>...</td>\n",
       "    </tr>\n",
       "    <tr>\n",
       "      <th>49995</th>\n",
       "      <td>253</td>\n",
       "      <td>253.0</td>\n",
       "      <td>0</td>\n",
       "    </tr>\n",
       "    <tr>\n",
       "      <th>49996</th>\n",
       "      <td>664</td>\n",
       "      <td>664.0</td>\n",
       "      <td>0</td>\n",
       "    </tr>\n",
       "    <tr>\n",
       "      <th>49997</th>\n",
       "      <td>209</td>\n",
       "      <td>209.0</td>\n",
       "      <td>0</td>\n",
       "    </tr>\n",
       "    <tr>\n",
       "      <th>49998</th>\n",
       "      <td>214</td>\n",
       "      <td>214.0</td>\n",
       "      <td>0</td>\n",
       "    </tr>\n",
       "    <tr>\n",
       "      <th>49999</th>\n",
       "      <td>1</td>\n",
       "      <td>1.0</td>\n",
       "      <td>0</td>\n",
       "    </tr>\n",
       "  </tbody>\n",
       "</table>\n",
       "<p>46695 rows × 3 columns</p>\n",
       "</div>"
      ],
      "text/plain": [
       "       days since origination   days  chargeoff\n",
       "0                         109  109.0          0\n",
       "1                         679  679.0          0\n",
       "2                         723  723.0          0\n",
       "3                         509  509.0          0\n",
       "4                         254  254.0          0\n",
       "...                       ...    ...        ...\n",
       "49995                     253  253.0          0\n",
       "49996                     664  664.0          0\n",
       "49997                     209  209.0          0\n",
       "49998                     214  214.0          0\n",
       "49999                       1    1.0          0\n",
       "\n",
       "[46695 rows x 3 columns]"
      ]
     },
     "execution_count": 250,
     "metadata": {},
     "output_type": "execute_result"
    }
   ],
   "source": [
    "loan_active"
   ]
  },
  {
   "cell_type": "code",
   "execution_count": 251,
   "metadata": {},
   "outputs": [],
   "source": [
    "# As I mentioned above I decided to use the Logistic Regression model. It is a classification algorithm \n",
    "# and the dependent variable is binary. The algorithm gives good results.   \n",
    "# chargeoff => dependent variable \n",
    "# days => independent variable\n",
    "# prediction on the data where chargeoff is equal to 0\n",
    "\n",
    "# The maximum 'days since origination' value in the data is 730 so first aff all I estimate the fraction for charged-off \n",
    "# loan by the time all of their 1-year terms are finished, next I will do the same for all dataset (730 days ~ 2 years) \n",
    "# and at the end I use the Linear Regression model to estimate the fraction all of their 3-years terms are finished.  \n",
    "\n",
    "\n",
    "# 365 days \n",
    "one_year = loan_timing[loan_timing['days'] <= 365] \n",
    "\n",
    "X = np.reshape(one_year['days'].values, (-1,1))\n",
    "y = np.reshape(one_year['chargeoff'].values, (-1,1)).ravel()\n",
    "lr = linear_model.LogisticRegression().fit(X, y)\n"
   ]
  },
  {
   "cell_type": "code",
   "execution_count": 252,
   "metadata": {},
   "outputs": [
    {
     "data": {
      "text/plain": [
       "2373.9145261007297"
      ]
     },
     "execution_count": 252,
     "metadata": {},
     "output_type": "execute_result"
    }
   ],
   "source": [
    "X_pred = one_year[one_year['chargeoff'] == 0] \n",
    "X_pred =  np.reshape(X_pred['days'].values, (-1,1))\n",
    "\n",
    "pred_1year =  lr.predict_proba(X_pred) #probabiblity of 1\n",
    "\n",
    "pred_1year = pred_1year[:,1] # 1  \n",
    "pred_1year = sum(pred_1year)\n",
    "pred_1year # predicted count chargeoff 1 \n",
    "\n",
    "#2374 => 1, 21666 => 0 \n",
    "#2374 + 21666 + 2657= 26 697 <= check"
   ]
  },
  {
   "cell_type": "code",
   "execution_count": 253,
   "metadata": {},
   "outputs": [
    {
     "name": "stdout",
     "output_type": "stream",
     "text": [
      "days since origination    26697\n",
      "days                      26697\n",
      "chargeoff                 26697\n",
      "dtype: int64\n",
      "days since origination    2657\n",
      "days                      2657\n",
      "chargeoff                 2657\n",
      "dtype: int64\n"
     ]
    }
   ],
   "source": [
    "print(one_year.count())\n",
    "count = one_year[one_year['chargeoff'] == 1].count()\n",
    "print(count)\n"
   ]
  },
  {
   "cell_type": "code",
   "execution_count": 254,
   "metadata": {},
   "outputs": [
    {
     "data": {
      "text/plain": [
       "18.844814024047647"
      ]
     },
     "execution_count": 254,
     "metadata": {},
     "output_type": "execute_result"
    }
   ],
   "source": [
    "# Predicted fraction of charded-off in a 1-year \n",
    "# chargeoff = 1 in the 1-year dataset\n",
    "\n",
    "((2374 + 2657)/26697)*100"
   ]
  },
  {
   "cell_type": "code",
   "execution_count": 255,
   "metadata": {},
   "outputs": [],
   "source": [
    "# 730 days \n",
    "\n",
    "two_years = loan_timing \n",
    "\n",
    "X = np.reshape(two_years['days'].values, (-1,1))\n",
    "y = np.reshape(two_years['chargeoff'].values, (-1,1)).ravel()\n",
    "lr = linear_model.LogisticRegression().fit(X, y)"
   ]
  },
  {
   "cell_type": "code",
   "execution_count": 256,
   "metadata": {},
   "outputs": [
    {
     "data": {
      "text/plain": [
       "2995.6550603296646"
      ]
     },
     "execution_count": 256,
     "metadata": {},
     "output_type": "execute_result"
    }
   ],
   "source": [
    "X_pred = two_years[two_years['chargeoff'] == 0] \n",
    "X_pred =  np.reshape(X_pred['days'].values, (-1,1))\n",
    "\n",
    "pred_2years =  lr.predict_proba(X_pred)\n",
    "pred_2years = pred_2years[:,1]\n",
    "pred_2years = sum(pred_2years)\n",
    "pred_2years # predicted count chargeoff 1 \n",
    "\n",
    "\n",
    "#2996 => 1 #43699 => 0\n",
    "# 2996 + 43699 + 3305 = 50 000 <= check "
   ]
  },
  {
   "cell_type": "code",
   "execution_count": 257,
   "metadata": {
    "scrolled": true
   },
   "outputs": [
    {
     "name": "stdout",
     "output_type": "stream",
     "text": [
      "days since origination    50000\n",
      "days                      50000\n",
      "chargeoff                 50000\n",
      "dtype: int64\n",
      "days since origination    3305\n",
      "days                      3305\n",
      "chargeoff                 3305\n",
      "dtype: int64\n"
     ]
    }
   ],
   "source": [
    "\n",
    "print(two_years.count())\n",
    "count = two_years[two_years['chargeoff'] == 1].count()\n",
    "print(count)\n"
   ]
  },
  {
   "cell_type": "code",
   "execution_count": 258,
   "metadata": {},
   "outputs": [
    {
     "data": {
      "text/plain": [
       "12.601999999999999"
      ]
     },
     "execution_count": 258,
     "metadata": {},
     "output_type": "execute_result"
    }
   ],
   "source": [
    "# Predicted fraction of charded-off within 2-years\n",
    "\n",
    "((2996+3305)/50000)*100 "
   ]
  },
  {
   "cell_type": "code",
   "execution_count": 259,
   "metadata": {},
   "outputs": [
    {
     "data": {
      "text/plain": [
       "LinearRegression()"
      ]
     },
     "execution_count": 259,
     "metadata": {},
     "output_type": "execute_result"
    }
   ],
   "source": [
    "# Simple estimate the fraction of charded-off within 3-years\n",
    "\n",
    "#1095 days \n",
    "\n",
    "X = np.reshape( [1,2 ], (-1,1))\n",
    "y = np.reshape( [18.844814024047647, 12.601999999999999], (-1,1)) \n",
    "\n",
    "lr = linear_model.LinearRegression()\n",
    "lr.fit(X, y)"
   ]
  },
  {
   "cell_type": "code",
   "execution_count": 260,
   "metadata": {},
   "outputs": [
    {
     "data": {
      "text/plain": [
       "array([[6.35918598]])"
      ]
     },
     "execution_count": 260,
     "metadata": {},
     "output_type": "execute_result"
    }
   ],
   "source": [
    "pred_3years = lr.predict(np.reshape( [3], (-1,1)))\n",
    "pred_3years  # ~ 6.36% .\n"
   ]
  },
  {
   "cell_type": "code",
   "execution_count": null,
   "metadata": {},
   "outputs": [],
   "source": []
  }
 ],
 "metadata": {
  "kernelspec": {
   "display_name": "Python 3",
   "language": "python",
   "name": "python3"
  },
  "language_info": {
   "codemirror_mode": {
    "name": "ipython",
    "version": 3
   },
   "file_extension": ".py",
   "mimetype": "text/x-python",
   "name": "python",
   "nbconvert_exporter": "python",
   "pygments_lexer": "ipython3",
   "version": "3.8.5"
  }
 },
 "nbformat": 4,
 "nbformat_minor": 4
}
