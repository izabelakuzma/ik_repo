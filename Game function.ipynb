{
 "cells": [
  {
   "cell_type": "code",
   "execution_count": 1,
   "metadata": {},
   "outputs": [],
   "source": [
    "import random\n",
    "\n",
    "def game():\n",
    "    random_number = random.randint(0,50)\n",
    "    count = 0\n",
    "\n",
    "    while(True):\n",
    "        print('Give me a number:')\n",
    "        number = int(input())\n",
    "        if random_number == number:\n",
    "            count += 1 \n",
    "            print(\"You quessed !\")\n",
    "            True\n",
    "            break\n",
    "        if random_number > number:\n",
    "            count +=1\n",
    "            print(\"To small number, try one more time !\")\n",
    "            False\n",
    "        if random_number < number:\n",
    "            count +=1\n",
    "            print(\"To large number, try one more time !\")\n",
    "            False\n",
    "        \n",
    "    return count "
   ]
  },
  {
   "cell_type": "code",
   "execution_count": 2,
   "metadata": {
    "collapsed": true
   },
   "outputs": [
    {
     "name": "stdout",
     "output_type": "stream",
     "text": [
      "Give me a number:\n",
      "5\n",
      "To large number, try one more time !\n",
      "Give me a number:\n",
      "4\n",
      "To large number, try one more time !\n",
      "Give me a number:\n",
      "3\n",
      "To large number, try one more time !\n",
      "Give me a number:\n",
      "2\n",
      "To large number, try one more time !\n",
      "Give me a number:\n",
      "1\n",
      "You quessed !\n",
      "5\n"
     ]
    }
   ],
   "source": [
    "print(game())"
   ]
  },
  {
   "cell_type": "code",
   "execution_count": null,
   "metadata": {},
   "outputs": [],
   "source": []
  },
  {
   "cell_type": "code",
   "execution_count": null,
   "metadata": {},
   "outputs": [],
   "source": []
  }
 ],
 "metadata": {
  "kernelspec": {
   "display_name": "Python 3",
   "language": "python",
   "name": "python3"
  },
  "language_info": {
   "codemirror_mode": {
    "name": "ipython",
    "version": 3
   },
   "file_extension": ".py",
   "mimetype": "text/x-python",
   "name": "python",
   "nbconvert_exporter": "python",
   "pygments_lexer": "ipython3",
   "version": "3.6.7"
  }
 },
 "nbformat": 4,
 "nbformat_minor": 2
}
